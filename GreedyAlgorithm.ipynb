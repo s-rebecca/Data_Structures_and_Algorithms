{
  "nbformat": 4,
  "nbformat_minor": 0,
  "metadata": {
    "colab": {
      "provenance": []
    },
    "kernelspec": {
      "name": "python3",
      "display_name": "Python 3"
    },
    "language_info": {
      "name": "python"
    }
  },
  "cells": [
    {
      "cell_type": "markdown",
      "source": [
        "#Graph initialization"
      ],
      "metadata": {
        "id": "GXBiuAPUm27z"
      }
    },
    {
      "cell_type": "code",
      "source": [
        "class Graph:\n",
        "  def __init__(self):\n",
        "    self.graph={}\n",
        "\n",
        "  def add_vertex(self,vertex):\n",
        "    if vertex not in self.graph:\n",
        "      self.graph[vertex]=[]\n",
        "\n",
        "  def add_edge(self,vertex1,vertex2,weight):\n",
        "    if vertex1 in self.graph and vertex2 in self.graph:\n",
        "      self.graph[vertex1].append((vertex2,weight))\n",
        "      self.graph[vertex2].append((vertex1,weight))\n",
        "\n",
        "  def get_vertices(self):\n",
        "    return list(self.graph.keys())\n",
        "\n",
        "  def get_edges(self):\n",
        "    edges=[]\n",
        "    for vertex,neighbors in self.graph.items():\n",
        "      for neighbor,weight in neighbors:\n",
        "        if (neighbor,vertex,weight) not in edges:\n",
        "          edges.append((vertex,neighbor,weight))\n",
        "    return edges\n",
        "\n",
        "  def __str__(self):\n",
        "        result = \"\"\n",
        "        for vertex, neighbors in self.graph.items():\n",
        "            result += f\"{vertex}: {', '.join(neighbors)}\\n\"\n",
        "        return result\n",
        "\n",
        "\n",
        "\n",
        "\n",
        "\n"
      ],
      "metadata": {
        "id": "a3YYMgwpnAfF"
      },
      "execution_count": null,
      "outputs": []
    },
    {
      "cell_type": "markdown",
      "source": [
        "#Dijkstra Algorithm\n",
        "##O(E+logV)"
      ],
      "metadata": {
        "id": "z2U6KHNhFBAo"
      }
    },
    {
      "cell_type": "code",
      "source": [
        "class Graph:\n",
        "    def __init__(self):\n",
        "        self.graph = {}\n",
        "\n",
        "    def add_vertex(self, vertex):\n",
        "        if vertex not in self.graph:\n",
        "            self.graph[vertex] = []\n",
        "\n",
        "    def add_edge(self, vertex1, vertex2, weight):\n",
        "        if vertex1 in self.graph and vertex2 in self.graph:\n",
        "            self.graph[vertex1].append((vertex2, weight))\n",
        "            self.graph[vertex2].append((vertex1, weight))\n",
        "\n",
        "    def dijkstra(self, start):\n",
        "        distances = {vertex: float('infinity') for vertex in self.graph}\n",
        "        distances[start] = 0\n",
        "        unvisited_vertices = list(self.graph.keys())\n",
        "\n",
        "        while unvisited_vertices:\n",
        "            current_vertex = min(unvisited_vertices, key=lambda vertex: distances[vertex])\n",
        "\n",
        "            unvisited_vertices.remove(current_vertex)\n",
        "\n",
        "            for neighbor, weight in self.graph[current_vertex]:\n",
        "                distance = distances[current_vertex] + weight\n",
        "\n",
        "                if distance < distances[neighbor]:\n",
        "                    distances[neighbor] = distance\n",
        "\n",
        "        return distances\n",
        "\n",
        "g = Graph()\n",
        "g.add_vertex(\"A\")\n",
        "g.add_vertex(\"B\")\n",
        "g.add_vertex(\"C\")\n",
        "g.add_edge(\"A\", \"B\", 1)\n",
        "g.add_edge(\"B\", \"C\", 2)\n",
        "g.add_edge(\"A\", \"C\", 4)\n",
        "\n",
        "start_vertex = \"A\"\n",
        "shortest_distances = g.dijkstra(start_vertex)\n",
        "for vertex, distance in shortest_distances.items():\n",
        "    print(f\"Shortest distance from {start_vertex} to {vertex}: {distance}\")\n"
      ],
      "metadata": {
        "id": "U9dyhvNZFGqL"
      },
      "execution_count": null,
      "outputs": []
    },
    {
      "cell_type": "markdown",
      "source": [
        "#Kruskal's Algorithm\n",
        "##O(ElogE)"
      ],
      "metadata": {
        "id": "U8n9aROUhCYf"
      }
    },
    {
      "cell_type": "code",
      "execution_count": null,
      "metadata": {
        "id": "2ECjLYYMgxHR",
        "colab": {
          "base_uri": "https://localhost:8080/"
        },
        "outputId": "e3658207-d735-45bd-91e3-3df1b2abda65"
      },
      "outputs": [
        {
          "output_type": "stream",
          "name": "stdout",
          "text": [
            "Minimum Spanning Tree:\n",
            "A - B: 1\n",
            "B - C: 2\n",
            "C - D: 3\n"
          ]
        }
      ],
      "source": [
        "class Graph:\n",
        "    def __init__(self):\n",
        "        self.graph = {}\n",
        "\n",
        "    def add_vertex(self, vertex):\n",
        "        if vertex not in self.graph:\n",
        "            self.graph[vertex] = []\n",
        "\n",
        "    def add_edge(self, vertex1, vertex2, weight):\n",
        "        if vertex1 in self.graph and vertex2 in self.graph:\n",
        "            self.graph[vertex1].append((vertex2, weight))\n",
        "            self.graph[vertex2].append((vertex1, weight))\n",
        "\n",
        "    def get_vertices(self):\n",
        "        return list(self.graph.keys())\n",
        "\n",
        "    def get_edges(self):\n",
        "        edges = []\n",
        "        for vertex, neighbors in self.graph.items():\n",
        "            for neighbor, weight in neighbors:\n",
        "                if (neighbor, vertex, weight) not in edges and (vertex, neighbor, weight) not in edges:\n",
        "                    edges.append((vertex, neighbor, weight))\n",
        "        return edges\n",
        "\n",
        "    def __str__(self):\n",
        "        result = \"\"\n",
        "        for vertex, neighbors in self.graph.items():\n",
        "            result += f\"{vertex}: {', '.join([f'{neighbor}({weight})' for neighbor, weight in neighbors])}\\n\"\n",
        "        return result\n",
        "\n",
        "    def kruskal(self):\n",
        "        def find(parent, i):\n",
        "            if parent[i] == i:\n",
        "                return i\n",
        "            return find(parent, parent[i])\n",
        "\n",
        "        def union(parent, rank, x, y):\n",
        "            root_x = find(parent, x)\n",
        "            root_y = find(parent, y)\n",
        "            if root_x != root_y:\n",
        "                if rank[root_x] < rank[root_y]:\n",
        "                    parent[root_x] = root_y\n",
        "                elif rank[root_x] > rank[root_y]:\n",
        "                    parent[root_y] = root_x\n",
        "                else:\n",
        "                    parent[root_y] = root_x\n",
        "                    rank[root_x] += 1\n",
        "\n",
        "        edges = []\n",
        "        for vertex, neighbors in self.graph.items():\n",
        "            for neighbor, weight in neighbors:\n",
        "                edges.append((vertex, neighbor, weight))\n",
        "\n",
        "        edges.sort(key=lambda x: x[2])\n",
        "        minimum_spanning_tree = []\n",
        "        parent = {}\n",
        "        rank = {}\n",
        "        for vertex in self.get_vertices():\n",
        "            parent[vertex] = vertex\n",
        "            rank[vertex] = 0\n",
        "\n",
        "        for edge in edges:\n",
        "            u, v, weight = edge\n",
        "            root_u = find(parent, u)\n",
        "            root_v = find(parent, v)\n",
        "            if root_u != root_v:\n",
        "                minimum_spanning_tree.append((u, v, weight))\n",
        "                union(parent, rank, root_u, root_v)\n",
        "\n",
        "        return minimum_spanning_tree\n",
        "\n",
        "\n",
        "\n",
        "if __name__ == \"__main__\":\n",
        "    my_graph = Graph()\n",
        "\n",
        "    my_graph.add_vertex(\"A\")\n",
        "    my_graph.add_vertex(\"B\")\n",
        "    my_graph.add_vertex(\"C\")\n",
        "    my_graph.add_vertex(\"D\")\n",
        "\n",
        "    my_graph.add_edge(\"A\", \"B\", 1)\n",
        "    my_graph.add_edge(\"B\", \"C\", 2)\n",
        "    my_graph.add_edge(\"C\", \"D\", 3)\n",
        "    my_graph.add_edge(\"D\", \"A\", 4)\n",
        "\n",
        "    mst = my_graph.kruskal()\n",
        "\n",
        "    print(\"Minimum Spanning Tree:\")\n",
        "    for u, v, weight in mst:\n",
        "        print(f\"{u} - {v}: {weight}\")\n"
      ]
    },
    {
      "cell_type": "markdown",
      "source": [
        "#Prim's Algorithm\n",
        "##O((V+E)logV)"
      ],
      "metadata": {
        "id": "KZ2zcY3zjO9T"
      }
    },
    {
      "cell_type": "code",
      "source": [
        "class Graph():\n",
        "  def __init__(self):\n",
        "    self.graph={}\n",
        "\n",
        "  def add_vertex(self,vertex):\n",
        "    if vertex not in self.graph:\n",
        "      self.graph[vertex]=[]\n",
        "\n",
        "  def add_edge(self,vertex1,vertex2,weight):\n",
        "    if vertex1 in self.graph and vertex2 in self.graph:\n",
        "      self.graph[vertex1].append((vertex2,weight))\n",
        "      self.graph[vertex2].append((vertex1,weight))\n",
        "\n",
        "\n",
        "  def get_vertices(self):\n",
        "    return list(self.graph.keys())\n",
        "\n",
        "  def get_edges(self):\n",
        "    edges=[]\n",
        "    for vertex,neighbors in self.graph.items():\n",
        "      for neighbor,weight in neighbors:\n",
        "        if (neighbor,vertex,weight) not in edges and (vertex,neighbor,weight) not in edges:\n",
        "          edges.append((vertex,neighbor,weight))\n",
        "    return edges\n",
        "  def __str__(self):\n",
        "    result = \"\"\n",
        "    for vertex, neighbors in self.graph.items():\n",
        "        result += f\"{vertex}: {', '.join([f'{neighbor}({weight})' for neighbor, weight in neighbors])}\\n\"\n",
        "    return result\n",
        "\n",
        "  def prim(self):\n",
        "    mst=[]\n",
        "    visited=set()\n",
        "    start_vertex=next(iter(self.graph))\n",
        "    visited.add(start_vertex)\n",
        "\n",
        "    while(len(visited))<len(self.graph):\n",
        "      min_weight=float('inf')\n",
        "      min_edge=None\n",
        "\n",
        "      for u in visited:\n",
        "        for v,weight in self.graph[u]:\n",
        "          if v not in visited and weight<min_weight:\n",
        "            min_weight=weight\n",
        "            min_edge=(u,v,weight)\n",
        "\n",
        "      if min_edge:\n",
        "        u,v,weight=min_edge\n",
        "        mst.append((u,v,weight))\n",
        "        visited.add(v)\n",
        "    return mst\n",
        "\n",
        "my_graph = Graph()\n",
        "\n",
        "my_graph.add_vertex(\"A\")\n",
        "my_graph.add_vertex(\"B\")\n",
        "my_graph.add_vertex(\"C\")\n",
        "my_graph.add_vertex(\"D\")\n",
        "\n",
        "my_graph.add_edge(\"A\", \"B\", 1)\n",
        "my_graph.add_edge(\"B\", \"C\", 2)\n",
        "my_graph.add_edge(\"C\", \"D\", 3)\n",
        "my_graph.add_edge(\"D\", \"A\", 4)\n",
        "\n",
        "mst = my_graph.prim()\n",
        "\n",
        "print(\"Minimum Spanning Tree:\")\n",
        "for u, v, weight in mst:\n",
        "    print(f\"{u} - {v}: {weight}\")\n",
        "\n",
        "\n",
        "\n",
        "\n",
        "\n",
        "\n",
        "\n",
        "\n",
        "\n"
      ],
      "metadata": {
        "id": "v-R_MYV-jRt5",
        "colab": {
          "base_uri": "https://localhost:8080/"
        },
        "outputId": "bbc6d834-e913-4ef3-bed6-d16b74a63ef5"
      },
      "execution_count": 2,
      "outputs": [
        {
          "output_type": "stream",
          "name": "stdout",
          "text": [
            "Minimum Spanning Tree:\n",
            "A - B: 1\n",
            "B - C: 2\n",
            "C - D: 3\n"
          ]
        }
      ]
    },
    {
      "cell_type": "markdown",
      "source": [
        "#Activity Selection\n",
        "##Sorted O(N)\n",
        "##Unsorted O(NlogN)"
      ],
      "metadata": {
        "id": "0NjaEgiH2wa7"
      }
    },
    {
      "cell_type": "code",
      "source": [
        "def activity_selection_greedy(activities):\n",
        "\n",
        "  selected_activities = []\n",
        "  current_end_time = float('-inf')\n",
        "  for activity in activities:\n",
        "    if activity[0] > current_end_time:\n",
        "      selected_activities.append(activity)\n",
        "      current_end_time = activity[1]\n",
        "  return selected_activities\n",
        "\n",
        "\n",
        "\n",
        "activities = [(1, 4), (3, 5), (0, 6), (5, 7), (2, 8)]\n",
        "selected_activities = activity_selection_greedy(activities)\n",
        "\n",
        "print(selected_activities)\n"
      ],
      "metadata": {
        "colab": {
          "base_uri": "https://localhost:8080/"
        },
        "id": "cWCwhzYD2yk1",
        "outputId": "db29843e-8071-4109-943e-44ed2b3322d8"
      },
      "execution_count": null,
      "outputs": [
        {
          "output_type": "stream",
          "name": "stdout",
          "text": [
            "[(1, 4), (5, 7)]\n"
          ]
        }
      ]
    },
    {
      "cell_type": "markdown",
      "source": [
        "#Fractional Knapsack\n",
        "##O(NlogN)"
      ],
      "metadata": {
        "id": "Jlaz0g7O_zuM"
      }
    },
    {
      "cell_type": "code",
      "source": [
        "class Item:\n",
        "\tdef __init__(self, profit, weight):\n",
        "\t\tself.profit = profit\n",
        "\t\tself.weight = weight\n",
        "\n",
        "def fractionalKnapsack(W, arr):\n",
        "\n",
        "\tarr.sort(key=lambda x: (x.profit/x.weight), reverse=True)\n",
        "\n",
        "\tfinalvalue = 0.0\n",
        "\n",
        "\tfor item in arr:\n",
        "\n",
        "\t\tif item.weight <= W:\n",
        "\t\t\tW -= item.weight\n",
        "\t\t\tfinalvalue += item.profit\n",
        "\t\telse:\n",
        "\t\t\tfinalvalue += item.profit * W / item.weight\n",
        "\t\t\tbreak\n",
        "\treturn finalvalue\n",
        "\n",
        "if __name__ == \"__main__\":\n",
        "\tW = 50\n",
        "\tarr = [Item(60, 10), Item(100, 20), Item(120, 30)]\n",
        "\n",
        "\tmax_val = fractionalKnapsack(W, arr)\n",
        "\tprint(max_val)\n"
      ],
      "metadata": {
        "colab": {
          "base_uri": "https://localhost:8080/"
        },
        "id": "1s7kh5oYBdnz",
        "outputId": "42534c62-25c2-42ba-b7e5-12034d3eba61"
      },
      "execution_count": 3,
      "outputs": [
        {
          "output_type": "stream",
          "name": "stdout",
          "text": [
            "240.0\n"
          ]
        }
      ]
    }
  ]
}
